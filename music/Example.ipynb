{
 "cells": [
  {
   "cell_type": "markdown",
   "metadata": {},
   "source": [
    "# Check out the documentation\n",
    "\n",
    "https://abjad.github.io/api/abjad/core/index.html#"
   ]
  },
  {
   "cell_type": "code",
   "execution_count": 2,
   "metadata": {},
   "outputs": [],
   "source": [
    "# Import library\n",
    "from abjad import *\n",
    "\n",
    "# First voice\n",
    "notes_one = [\n",
    "    Note.from_pitch_and_duration(\"c'\", (1, 4)),\n",
    "    Note.from_pitch_and_duration(\"d'\", (1, 4)),\n",
    "    Note.from_pitch_and_duration(\"d'\", (1, 4)),\n",
    "    Note.from_pitch_and_duration(\"f'\", (1, 4)),\n",
    "    Note.from_pitch_and_duration(\"g'\", (4, 4)),\n",
    "]\n",
    "container_one = Container(notes_one)\n",
    "\n",
    "# Second voice\n",
    "# Prefix of sec. voice\n",
    "notes_two_prefix = [\n",
    "    Rest(written_duration=Duration(4, 4)),\n",
    "]\n",
    "# Second voice double the velocity from the first\n",
    "notes_two_fasttrack = [\n",
    "    Note.from_pitch_and_duration(note.note_head, Duration(\n",
    "        note.written_duration.pair[0] / note.written_duration.pair[1] / 2\n",
    "    ))\n",
    "    for note in notes_one]\n",
    "# Append fast track to prefix\n",
    "notes_two = notes_two_prefix + notes_two_fasttrack\n",
    "container_two = Container(notes_two)\n",
    "\n",
    "# Add the containers together\n",
    "staff_group = StaffGroup([container_one, container_two])\n",
    "\n",
    "# Render as PDF\n",
    "show(staff_group)\n",
    "# play(staff_group)"
   ]
  },
  {
   "cell_type": "code",
   "execution_count": null,
   "metadata": {},
   "outputs": [],
   "source": []
  },
  {
   "cell_type": "code",
   "execution_count": null,
   "metadata": {},
   "outputs": [],
   "source": []
  }
 ],
 "metadata": {
  "kernelspec": {
   "display_name": "Python 3",
   "language": "python",
   "name": "python3"
  },
  "language_info": {
   "codemirror_mode": {
    "name": "ipython",
    "version": 3
   },
   "file_extension": ".py",
   "mimetype": "text/x-python",
   "name": "python",
   "nbconvert_exporter": "python",
   "pygments_lexer": "ipython3",
   "version": "3.8.6"
  }
 },
 "nbformat": 4,
 "nbformat_minor": 4
}
